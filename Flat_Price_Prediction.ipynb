{
 "cells": [
  {
   "cell_type": "code",
   "execution_count": 1,
   "id": "e33d1ccc",
   "metadata": {},
   "outputs": [],
   "source": [
    "import numpy as np\n",
    "import pandas as pd\n",
    "import matplotlib.pyplot as plt\n",
    "import seaborn as sns\n",
    "import glob"
   ]
  },
  {
   "cell_type": "code",
   "execution_count": 2,
   "id": "5f85dc95",
   "metadata": {},
   "outputs": [
    {
     "data": {
      "text/plain": [
       "(4889, 52)"
      ]
     },
     "execution_count": 2,
     "metadata": {},
     "output_type": "execute_result"
    }
   ],
   "source": [
    "path = 'data'\n",
    "csv_files = glob.glob(path + \"/*.csv\")\n",
    "\n",
    "df_list = (pd.read_csv(file) for file in csv_files)\n",
    "\n",
    "data = pd.concat(df_list, axis = 0)\n",
    "\n",
    "df = data.copy()\n",
    "\n",
    "df.shape"
   ]
  },
  {
   "cell_type": "code",
   "execution_count": 3,
   "id": "9f373f5f",
   "metadata": {},
   "outputs": [
    {
     "data": {
      "text/plain": [
       "(4889, 6)"
      ]
     },
     "execution_count": 3,
     "metadata": {},
     "output_type": "execute_result"
    }
   ],
   "source": [
    "df = df.drop(['id','object', 'annonce_id', 'agency_id', 'agency_page', 'agency_contact_name', 'agency_img_url',\n",
    "        'agency_phone_number', 'agency_has_email', 'agency_link', 'contact_email', 'description', 'is_redirected',\n",
    "        'is_expired', 'latitude', 'longitude', 'picture_count', 'photos', 'price_decrease_percent', 'publication_id',\n",
    "        'pricing_price_note', 'ref', 'title', 'url', 'video_url', 'virtual_visit_url', 'collected_at', 'input_url',\n",
    "        'input_max_pages', 'input_annonce_details','main_picture','transaction_type', 'short_description', \n",
    "             'price_per_meter', 'is_exclusive', 'monthly_price', 'nature', 'estate_type_id', \n",
    "              'highlighting_level', 'address', 'bedrooms_count','rooms', 'contact_is_private_seller','business_unit'\n",
    "              , 'insee_code','position'],\n",
    "             axis = 1)\n",
    "df.shape"
   ]
  },
  {
   "cell_type": "code",
   "execution_count": 4,
   "id": "c622876d",
   "metadata": {},
   "outputs": [],
   "source": [
    "df = df.drop_duplicates().reset_index().drop(['index'], axis = 1)"
   ]
  },
  {
   "cell_type": "code",
   "execution_count": 5,
   "id": "39198af9",
   "metadata": {},
   "outputs": [
    {
     "name": "stdout",
     "output_type": "stream",
     "text": [
      "<class 'pandas.core.frame.DataFrame'>\n",
      "RangeIndex: 2497 entries, 0 to 2496\n",
      "Data columns (total 6 columns):\n",
      " #   Column       Non-Null Count  Dtype  \n",
      "---  ------       --------------  -----  \n",
      " 0   area         2488 non-null   float64\n",
      " 1   district     1860 non-null   object \n",
      " 2   estate_type  2497 non-null   object \n",
      " 3   postal_code  2497 non-null   int64  \n",
      " 4   price        2497 non-null   int64  \n",
      " 5   tags         2497 non-null   object \n",
      "dtypes: float64(1), int64(2), object(3)\n",
      "memory usage: 117.2+ KB\n"
     ]
    }
   ],
   "source": [
    "df.info()"
   ]
  },
  {
   "cell_type": "code",
   "execution_count": 6,
   "id": "c20c8f5d",
   "metadata": {},
   "outputs": [
    {
     "name": "stdout",
     "output_type": "stream",
     "text": [
      "['9 pièces', '8 pièces', '7 pièces', '6 pièces', '5 pièces', '4 pièces', '3 pièces', '2 pièces', '11 pièces', '10 pièces', '1 pièce', '0 pièce', ' – m²', ' Étage –/9', ' Étage –/6', ' Étage –/5', ' Étage –/4', ' Étage –/2', ' Étage –/1', ' Étage –/0', ' Étage 9/–', ' Étage 9/9', ' Étage 9/26', ' Étage 9/15', ' Étage 9/13', ' Étage 9/12', ' Étage 9/11', ' Étage 9/10', ' Étage 8/–', ' Étage 8/9', ' Étage 8/8', ' Étage 8/15', ' Étage 8/14', ' Étage 8/12', ' Étage 7/–', ' Étage 7/9', ' Étage 7/8', ' Étage 7/7', ' Étage 7/4', ' Étage 7/11', ' Étage 7/10', ' Étage 7/0', ' Étage 6/–', ' Étage 6/9', ' Étage 6/8', ' Étage 6/7', ' Étage 6/6', ' Étage 6/16', ' Étage 6/14', ' Étage 6/13', ' Étage 6/10', ' Étage 6/0', ' Étage 5/–', ' Étage 5/9', ' Étage 5/8', ' Étage 5/7', ' Étage 5/6', ' Étage 5/5', ' Étage 5/14', ' Étage 5/11', ' Étage 5/10', ' Étage 5/1', ' Étage 5/0', ' Étage 4/–', ' Étage 4/9', ' Étage 4/8', ' Étage 4/7', ' Étage 4/6', ' Étage 4/5', ' Étage 4/4', ' Étage 4/20', ' Étage 4/2', ' Étage 4/16', ' Étage 4/14', ' Étage 4/13', ' Étage 4/10', ' Étage 4/0', ' Étage 3/–', ' Étage 3/9', ' Étage 3/8', ' Étage 3/7', ' Étage 3/6', ' Étage 3/5', ' Étage 3/4', ' Étage 3/3', ' Étage 3/11', ' Étage 3/10', ' Étage 3/1', ' Étage 3/0', ' Étage 2/–', ' Étage 2/9', ' Étage 2/8', ' Étage 2/7', ' Étage 2/6', ' Étage 2/5', ' Étage 2/4', ' Étage 2/3', ' Étage 2/2', ' Étage 2/14', ' Étage 2/12', ' Étage 2/11', ' Étage 2/10', ' Étage 2/0', ' Étage 19/20', ' Étage 16/–', ' Étage 15/–', ' Étage 14/–', ' Étage 14/20', ' Étage 14/15', ' Étage 14/14', ' Étage 13/–', ' Étage 12/–', ' Étage 12/16', ' Étage 12/0', ' Étage 11/–', ' Étage 11/15', ' Étage 11/14', ' Étage 11/13', ' Étage 11/12', ' Étage 10/–', ' Étage 10/16', ' Étage 10/15', ' Étage 10/14', ' Étage 10/13', ' Étage 10/12', ' Étage 1/–', ' Étage 1/9', ' Étage 1/8', ' Étage 1/7', ' Étage 1/6', ' Étage 1/5', ' Étage 1/4', ' Étage 1/3', ' Étage 1/2', ' Étage 1/14', ' Étage 1/11', ' Étage 1/10', ' Étage 1/1', ' Étage 1/0', ' Étage 0/–', ' Étage 0/8', ' Étage 0/7', ' Étage 0/6', ' Étage 0/5', ' Étage 0/4', ' Étage 0/3', ' Étage 0/2', ' Étage 0/11', ' Étage 0/10', ' Étage 0/1', ' Étage 0/0', ' Étage -2/8', ' Étage -1/3', ' Viager occupé', ' Viager libre', ' Terrasse', ' Piscine', ' Parking', ' Jardin', ' Garage', ' Box', ' Balcon', ' Ascenseur', ' 99 m²', ' 98 m²', ' 97 m²', ' 96 m²', ' 95 m²', ' 94 m²', ' 93 m²', ' 92 m²', ' 91 m²', ' 90 m²', ' 89 m²', ' 88 m²', ' 87 m²', ' 86 m²', ' 85 m²', ' 84 m²', ' 83 m²', ' 82 m²', ' 81 m²', ' 80 m²', ' 8 m²', ' 8 chambres', ' 79 m²', ' 78 m²', ' 77 m²', ' 76 m²', ' 75 m²', ' 74 m²', ' 73 m²', ' 72 m²', ' 71 m²', ' 70 m²', ' 69 m²', ' 68 m²', ' 67 m²', ' 66 m²', ' 65 m²', ' 64 m²', ' 63 m²', ' 62 m²', ' 61 m²', ' 60 m²', ' 6 chambres', ' 59 m²', ' 58 m²', ' 57 m²', ' 56 m²', ' 55 m²', ' 54 m²', ' 53 m²', ' 52 m²', ' 51 m²', ' 50 m²', ' 5 chambres', ' 5 balcons', ' 49 m²', ' 48 m²', ' 47 m²', ' 469 m²', ' 465 m²', ' 46 m²', ' 45 m²', ' 44 m²', ' 43 m²', ' 42 m²', ' 41 m²', ' 40 m²', ' 4 chambres', ' 4 balcons', ' 39 m²', ' 384 m²', ' 38 m²', ' 37 m²', ' 36 m²', ' 352 m²', ' 351 m²', ' 35 m²', ' 34 m²', ' 33 m²', ' 32 m²', ' 317 m²', ' 313 m²', ' 31 m²', ' 30 m²', ' 3 chambres', ' 3 balcons', ' 29 m²', ' 28 m²', ' 273 m²', ' 27 m²', ' 264 m²', ' 26 m²', ' 254 m²', ' 25 m²', ' 240 m²', ' 24 m²', ' 235 m²', ' 231 m²', ' 23 m²', ' 225 m²', ' 22 m²', ' 217 m²', ' 216 m²', ' 215 m²', ' 211 m²', ' 21 m²', ' 204 m²', ' 202 m²', ' 200 m²', ' 20 m²', ' 2 chambres', ' 2 balcons', ' 198 m²', ' 194 m²', ' 190 m²', ' 19 m²', ' 189 m²', ' 188 m²', ' 187 m²', ' 185 m²', ' 184 m²', ' 183 m²', ' 182 m²', ' 181 m²', ' 180 m²', ' 18 m²', ' 179 m²', ' 178 m²', ' 177 m²', ' 175 m²', ' 174 m²', ' 173 m²', ' 172 m²', ' 171 m²', ' 170 m²', ' 17 m²', ' 169 m²', ' 167 m²', ' 166 m²', ' 165 m²', ' 163 m²', ' 162 m²', ' 160 m²', ' 16 m²', ' 159 m²', ' 158 m²', ' 157 m²', ' 156 m²', ' 155 m²', ' 154 m²', ' 153 m²', ' 152 m²', ' 150 m²', ' 15 m²', ' 149 m²', ' 148 m²', ' 147 m²', ' 146 m²', ' 145 m²', ' 143 m²', ' 142 m²', ' 141 m²', ' 140 m²', ' 14 m²', ' 139 m²', ' 138 m²', ' 137 m²', ' 136 m²', ' 135 m²', ' 134 m²', ' 133 m²', ' 132 m²', ' 131 m²', ' 130 m²', ' 13 m²', ' 129 m²', ' 128 m²', ' 127 m²', ' 126 m²', ' 125 m²', ' 124 m²', ' 123 m²', ' 122 m²', ' 121 m²', ' 120 m²', ' 12 m²', ' 119 m²', ' 118 m²', ' 117 m²', ' 116 m²', ' 115 m²', ' 114 m²', ' 113 m²', ' 112 m²', ' 111 m²', ' 110 m²', ' 11 m²', ' 11 balcons', ' 109 m²', ' 108 m²', ' 107 m²', ' 106 m²', ' 105 m²', ' 104 m²', ' 103 m²', ' 102 m²', ' 101 m²', ' 100 m²', ' 10 m²', ' 10 chambres', ' 1 chambre', '']\n"
     ]
    }
   ],
   "source": [
    "#splitting the 'tags' column\n",
    "#what are all the unique features we can find in it\n",
    "\n",
    "tag_words = ''\n",
    "for data in df['tags']:\n",
    "    tag_words = tag_words + data + \",\"\n",
    "\n",
    "unique = []\n",
    "for word in tag_words.split(\",\"):\n",
    "    if word not in unique:\n",
    "        unique.append(word)\n",
    "        \n",
    "unique.sort(reverse=True)\n",
    "print(unique)\n"
   ]
  },
  {
   "cell_type": "code",
   "execution_count": 7,
   "id": "95bbbbec",
   "metadata": {},
   "outputs": [],
   "source": [
    "#list of the features we can find in 'tags'\n",
    "#rooms and area are already in the data, so I do not keep them here\n",
    "\n",
    "features = {'pièce': 'rooms', 'balcon':'balcony', 'ascenseur':'elevator', \n",
    "                 'terrasse':'terrace', \"étage\" : 'floor', 'jardin' : \"garden\", \n",
    "                 'garage' : 'garage','parking' : 'parking_spot', 'box' : 'box' }\n",
    "\n",
    "\n",
    "def split_column(features, dataframe, column_to_split ):\n",
    "    \n",
    "    for key in features :\n",
    "        list_temp = []\n",
    "\n",
    "        for data in dataframe[column_to_split] :\n",
    "\n",
    "                if key.lower() in data.lower() :\n",
    "                    splited_data = data.split(\",\")\n",
    "                    \n",
    "                    for element in splited_data:\n",
    "                        \n",
    "                        if key.lower() in element.lower():\n",
    "                            list_temp.append(element)\n",
    "                else :\n",
    "                    list_temp.append(None)\n",
    "        dataframe[features[key]] = list_temp\n"
   ]
  },
  {
   "cell_type": "code",
   "execution_count": 8,
   "id": "2cb6dc1a",
   "metadata": {},
   "outputs": [],
   "source": [
    "split_column(features, df, 'tags')"
   ]
  },
  {
   "cell_type": "code",
   "execution_count": 9,
   "id": "fa7072a2",
   "metadata": {},
   "outputs": [],
   "source": [
    "df = df.drop(['tags'], axis = 1)"
   ]
  },
  {
   "cell_type": "code",
   "execution_count": 10,
   "id": "04b99934",
   "metadata": {},
   "outputs": [
    {
     "data": {
      "text/html": [
       "<div>\n",
       "<style scoped>\n",
       "    .dataframe tbody tr th:only-of-type {\n",
       "        vertical-align: middle;\n",
       "    }\n",
       "\n",
       "    .dataframe tbody tr th {\n",
       "        vertical-align: top;\n",
       "    }\n",
       "\n",
       "    .dataframe thead th {\n",
       "        text-align: right;\n",
       "    }\n",
       "</style>\n",
       "<table border=\"1\" class=\"dataframe\">\n",
       "  <thead>\n",
       "    <tr style=\"text-align: right;\">\n",
       "      <th></th>\n",
       "      <th>area</th>\n",
       "      <th>district</th>\n",
       "      <th>estate_type</th>\n",
       "      <th>postal_code</th>\n",
       "      <th>price</th>\n",
       "      <th>rooms</th>\n",
       "      <th>balcony</th>\n",
       "      <th>elevator</th>\n",
       "      <th>terrace</th>\n",
       "      <th>floor</th>\n",
       "      <th>garden</th>\n",
       "      <th>garage</th>\n",
       "      <th>parking_spot</th>\n",
       "      <th>box</th>\n",
       "    </tr>\n",
       "  </thead>\n",
       "  <tbody>\n",
       "    <tr>\n",
       "      <th>2494</th>\n",
       "      <td>88.003705</td>\n",
       "      <td>Point du Jour-Ménival</td>\n",
       "      <td>Appartement</td>\n",
       "      <td>69005</td>\n",
       "      <td>380000</td>\n",
       "      <td>4 pièces</td>\n",
       "      <td>Balcon</td>\n",
       "      <td>Ascenseur</td>\n",
       "      <td>None</td>\n",
       "      <td>Étage 1/5</td>\n",
       "      <td>None</td>\n",
       "      <td>None</td>\n",
       "      <td>None</td>\n",
       "      <td>Box</td>\n",
       "    </tr>\n",
       "    <tr>\n",
       "      <th>2495</th>\n",
       "      <td>70.478723</td>\n",
       "      <td>Champvert-Point du Jour-Saint Irénée</td>\n",
       "      <td>Appartement</td>\n",
       "      <td>69005</td>\n",
       "      <td>265000</td>\n",
       "      <td>3 pièces</td>\n",
       "      <td>None</td>\n",
       "      <td>Ascenseur</td>\n",
       "      <td>None</td>\n",
       "      <td>Étage 11/15</td>\n",
       "      <td>None</td>\n",
       "      <td>None</td>\n",
       "      <td>None</td>\n",
       "      <td>None</td>\n",
       "    </tr>\n",
       "    <tr>\n",
       "      <th>2496</th>\n",
       "      <td>75.000000</td>\n",
       "      <td>NaN</td>\n",
       "      <td>Appartement</td>\n",
       "      <td>69005</td>\n",
       "      <td>270000</td>\n",
       "      <td>3 pièces</td>\n",
       "      <td>None</td>\n",
       "      <td>None</td>\n",
       "      <td>None</td>\n",
       "      <td>Étage 0/0</td>\n",
       "      <td>None</td>\n",
       "      <td>None</td>\n",
       "      <td>Parking</td>\n",
       "      <td>None</td>\n",
       "    </tr>\n",
       "  </tbody>\n",
       "</table>\n",
       "</div>"
      ],
      "text/plain": [
       "           area                              district  estate_type  \\\n",
       "2494  88.003705                 Point du Jour-Ménival  Appartement   \n",
       "2495  70.478723  Champvert-Point du Jour-Saint Irénée  Appartement   \n",
       "2496  75.000000                                   NaN  Appartement   \n",
       "\n",
       "      postal_code   price     rooms  balcony    elevator terrace  \\\n",
       "2494        69005  380000  4 pièces   Balcon   Ascenseur    None   \n",
       "2495        69005  265000  3 pièces     None   Ascenseur    None   \n",
       "2496        69005  270000  3 pièces     None        None    None   \n",
       "\n",
       "             floor garden garage parking_spot   box  \n",
       "2494     Étage 1/5   None   None         None   Box  \n",
       "2495   Étage 11/15   None   None         None  None  \n",
       "2496     Étage 0/0   None   None      Parking  None  "
      ]
     },
     "execution_count": 10,
     "metadata": {},
     "output_type": "execute_result"
    }
   ],
   "source": [
    "df.tail(3)"
   ]
  },
  {
   "cell_type": "code",
   "execution_count": 11,
   "id": "da4c30ca",
   "metadata": {},
   "outputs": [
    {
     "name": "stdout",
     "output_type": "stream",
     "text": [
      "<class 'pandas.core.frame.DataFrame'>\n",
      "RangeIndex: 2497 entries, 0 to 2496\n",
      "Data columns (total 14 columns):\n",
      " #   Column        Non-Null Count  Dtype  \n",
      "---  ------        --------------  -----  \n",
      " 0   area          2488 non-null   float64\n",
      " 1   district      1860 non-null   object \n",
      " 2   estate_type   2497 non-null   object \n",
      " 3   postal_code   2497 non-null   int64  \n",
      " 4   price         2497 non-null   int64  \n",
      " 5   rooms         2497 non-null   object \n",
      " 6   balcony       780 non-null    object \n",
      " 7   elevator      1460 non-null   object \n",
      " 8   terrace       503 non-null    object \n",
      " 9   floor         2280 non-null   object \n",
      " 10  garden        128 non-null    object \n",
      " 11  garage        174 non-null    object \n",
      " 12  parking_spot  424 non-null    object \n",
      " 13  box           439 non-null    object \n",
      "dtypes: float64(1), int64(2), object(11)\n",
      "memory usage: 273.2+ KB\n"
     ]
    }
   ],
   "source": [
    "df.info()"
   ]
  },
  {
   "cell_type": "code",
   "execution_count": 12,
   "id": "9e64a4a3",
   "metadata": {},
   "outputs": [
    {
     "data": {
      "text/plain": [
       "Other           0.760112\n",
       "Last Floor      0.134161\n",
       "Ground Floor    0.105727\n",
       "Name: floor, dtype: float64"
      ]
     },
     "execution_count": 12,
     "metadata": {},
     "output_type": "execute_result"
    }
   ],
   "source": [
    "#creating 3 categories of floor\n",
    "#Ground floor, Last floor, or Neither\n",
    "\n",
    "list_floor = []\n",
    "\n",
    "for floor in df['floor'] :\n",
    "    \n",
    "    if floor == None :\n",
    "        list_floor.append('Other')\n",
    "    elif (str(floor.replace('Étage ',''))[1] == '0'):\n",
    "        list_floor.append('Ground Floor')\n",
    "    elif (str(floor.replace('Étage ',''))[1] == str(floor.replace('Étage ',''))[3]) :\n",
    "        list_floor.append('Last Floor')\n",
    "    else :\n",
    "        list_floor.append('Other')\n",
    "\n",
    "        \n",
    "df['floor'] = list_floor \n",
    "\n",
    "df['floor'].value_counts(normalize=True)"
   ]
  },
  {
   "cell_type": "code",
   "execution_count": 13,
   "id": "012ad4a3",
   "metadata": {},
   "outputs": [],
   "source": [
    "df['area'] = df['area'].values.round()"
   ]
  },
  {
   "cell_type": "code",
   "execution_count": 14,
   "id": "9dd44452",
   "metadata": {},
   "outputs": [],
   "source": [
    "#I want to use this column to know if the flat is new or not\n",
    "\n",
    "list_new = []\n",
    "\n",
    "for estate_type in df['estate_type']:\n",
    "    if 'neuf' in estate_type.lower() :\n",
    "        list_new.append(True)\n",
    "    else : \n",
    "        list_new.append(False)\n",
    "        \n",
    "df['new_flat'] = list_new"
   ]
  },
  {
   "cell_type": "code",
   "execution_count": 15,
   "id": "324ead9b",
   "metadata": {},
   "outputs": [],
   "source": [
    "df = df.drop(['estate_type'], axis = 1)"
   ]
  },
  {
   "cell_type": "code",
   "execution_count": 16,
   "id": "f72086a7",
   "metadata": {},
   "outputs": [
    {
     "data": {
      "text/plain": [
       "False    0.887465\n",
       "True     0.112535\n",
       "Name: new_flat, dtype: float64"
      ]
     },
     "execution_count": 16,
     "metadata": {},
     "output_type": "execute_result"
    }
   ],
   "source": [
    "df['new_flat'].value_counts(normalize=True)"
   ]
  },
  {
   "cell_type": "code",
   "execution_count": 17,
   "id": "f08330f2",
   "metadata": {},
   "outputs": [],
   "source": [
    "#list of all features I will keep on True/False option\n",
    "\n",
    "list_t_f_features = ['balcony', 'elevator', 'garden', 'terrace', 'garage', 'box', 'parking_spot']\n",
    "\n",
    "def true_false(dataframe, column) :\n",
    "    dataframe[column] = dataframe[column].notnull().astype(bool)\n",
    "    dataframe[column] = dataframe[column].fillna(False)"
   ]
  },
  {
   "cell_type": "code",
   "execution_count": 18,
   "id": "1f594321",
   "metadata": {},
   "outputs": [],
   "source": [
    "for features in list_t_f_features :\n",
    "    true_false(df, features)"
   ]
  },
  {
   "cell_type": "code",
   "execution_count": 19,
   "id": "ac0f49a1",
   "metadata": {},
   "outputs": [],
   "source": [
    "#merging box and garage\n",
    "df['garage'] = df['garage'] | df['box'] \n",
    "\n",
    "df = df.drop(['box'], axis = 1)"
   ]
  },
  {
   "cell_type": "code",
   "execution_count": 20,
   "id": "49cd9210",
   "metadata": {},
   "outputs": [
    {
     "data": {
      "text/html": [
       "<div>\n",
       "<style scoped>\n",
       "    .dataframe tbody tr th:only-of-type {\n",
       "        vertical-align: middle;\n",
       "    }\n",
       "\n",
       "    .dataframe tbody tr th {\n",
       "        vertical-align: top;\n",
       "    }\n",
       "\n",
       "    .dataframe thead th {\n",
       "        text-align: right;\n",
       "    }\n",
       "</style>\n",
       "<table border=\"1\" class=\"dataframe\">\n",
       "  <thead>\n",
       "    <tr style=\"text-align: right;\">\n",
       "      <th></th>\n",
       "      <th>area</th>\n",
       "      <th>district</th>\n",
       "      <th>postal_code</th>\n",
       "      <th>price</th>\n",
       "      <th>rooms</th>\n",
       "      <th>balcony</th>\n",
       "      <th>elevator</th>\n",
       "      <th>terrace</th>\n",
       "      <th>floor</th>\n",
       "      <th>garden</th>\n",
       "      <th>garage</th>\n",
       "      <th>parking_spot</th>\n",
       "      <th>new_flat</th>\n",
       "    </tr>\n",
       "  </thead>\n",
       "  <tbody>\n",
       "    <tr>\n",
       "      <th>0</th>\n",
       "      <td>19.0</td>\n",
       "      <td>Croix Paquet</td>\n",
       "      <td>69001</td>\n",
       "      <td>175000</td>\n",
       "      <td>1 pièce</td>\n",
       "      <td>False</td>\n",
       "      <td>False</td>\n",
       "      <td>False</td>\n",
       "      <td>Other</td>\n",
       "      <td>False</td>\n",
       "      <td>False</td>\n",
       "      <td>False</td>\n",
       "      <td>False</td>\n",
       "    </tr>\n",
       "    <tr>\n",
       "      <th>1</th>\n",
       "      <td>19.0</td>\n",
       "      <td>La Guillotière Sud</td>\n",
       "      <td>69007</td>\n",
       "      <td>133000</td>\n",
       "      <td>1 pièce</td>\n",
       "      <td>False</td>\n",
       "      <td>False</td>\n",
       "      <td>False</td>\n",
       "      <td>Other</td>\n",
       "      <td>False</td>\n",
       "      <td>True</td>\n",
       "      <td>False</td>\n",
       "      <td>False</td>\n",
       "    </tr>\n",
       "    <tr>\n",
       "      <th>2</th>\n",
       "      <td>39.0</td>\n",
       "      <td>NaN</td>\n",
       "      <td>69006</td>\n",
       "      <td>237000</td>\n",
       "      <td>2 pièces</td>\n",
       "      <td>True</td>\n",
       "      <td>True</td>\n",
       "      <td>True</td>\n",
       "      <td>Other</td>\n",
       "      <td>False</td>\n",
       "      <td>False</td>\n",
       "      <td>False</td>\n",
       "      <td>False</td>\n",
       "    </tr>\n",
       "    <tr>\n",
       "      <th>3</th>\n",
       "      <td>99.0</td>\n",
       "      <td>Montchat</td>\n",
       "      <td>69003</td>\n",
       "      <td>755000</td>\n",
       "      <td>5 pièces</td>\n",
       "      <td>True</td>\n",
       "      <td>True</td>\n",
       "      <td>False</td>\n",
       "      <td>Other</td>\n",
       "      <td>False</td>\n",
       "      <td>True</td>\n",
       "      <td>False</td>\n",
       "      <td>False</td>\n",
       "    </tr>\n",
       "    <tr>\n",
       "      <th>4</th>\n",
       "      <td>48.0</td>\n",
       "      <td>Montchat</td>\n",
       "      <td>69003</td>\n",
       "      <td>220000</td>\n",
       "      <td>2 pièces</td>\n",
       "      <td>True</td>\n",
       "      <td>False</td>\n",
       "      <td>True</td>\n",
       "      <td>Ground Floor</td>\n",
       "      <td>True</td>\n",
       "      <td>False</td>\n",
       "      <td>True</td>\n",
       "      <td>False</td>\n",
       "    </tr>\n",
       "    <tr>\n",
       "      <th>...</th>\n",
       "      <td>...</td>\n",
       "      <td>...</td>\n",
       "      <td>...</td>\n",
       "      <td>...</td>\n",
       "      <td>...</td>\n",
       "      <td>...</td>\n",
       "      <td>...</td>\n",
       "      <td>...</td>\n",
       "      <td>...</td>\n",
       "      <td>...</td>\n",
       "      <td>...</td>\n",
       "      <td>...</td>\n",
       "      <td>...</td>\n",
       "    </tr>\n",
       "    <tr>\n",
       "      <th>2492</th>\n",
       "      <td>45.0</td>\n",
       "      <td>NaN</td>\n",
       "      <td>69005</td>\n",
       "      <td>295000</td>\n",
       "      <td>2 pièces</td>\n",
       "      <td>True</td>\n",
       "      <td>False</td>\n",
       "      <td>False</td>\n",
       "      <td>Other</td>\n",
       "      <td>False</td>\n",
       "      <td>False</td>\n",
       "      <td>False</td>\n",
       "      <td>False</td>\n",
       "    </tr>\n",
       "    <tr>\n",
       "      <th>2493</th>\n",
       "      <td>58.0</td>\n",
       "      <td>NaN</td>\n",
       "      <td>69005</td>\n",
       "      <td>219000</td>\n",
       "      <td>3 pièces</td>\n",
       "      <td>True</td>\n",
       "      <td>True</td>\n",
       "      <td>False</td>\n",
       "      <td>Other</td>\n",
       "      <td>False</td>\n",
       "      <td>False</td>\n",
       "      <td>False</td>\n",
       "      <td>False</td>\n",
       "    </tr>\n",
       "    <tr>\n",
       "      <th>2494</th>\n",
       "      <td>88.0</td>\n",
       "      <td>Point du Jour-Ménival</td>\n",
       "      <td>69005</td>\n",
       "      <td>380000</td>\n",
       "      <td>4 pièces</td>\n",
       "      <td>True</td>\n",
       "      <td>True</td>\n",
       "      <td>False</td>\n",
       "      <td>Other</td>\n",
       "      <td>False</td>\n",
       "      <td>True</td>\n",
       "      <td>False</td>\n",
       "      <td>False</td>\n",
       "    </tr>\n",
       "    <tr>\n",
       "      <th>2495</th>\n",
       "      <td>70.0</td>\n",
       "      <td>Champvert-Point du Jour-Saint Irénée</td>\n",
       "      <td>69005</td>\n",
       "      <td>265000</td>\n",
       "      <td>3 pièces</td>\n",
       "      <td>False</td>\n",
       "      <td>True</td>\n",
       "      <td>False</td>\n",
       "      <td>Other</td>\n",
       "      <td>False</td>\n",
       "      <td>False</td>\n",
       "      <td>False</td>\n",
       "      <td>False</td>\n",
       "    </tr>\n",
       "    <tr>\n",
       "      <th>2496</th>\n",
       "      <td>75.0</td>\n",
       "      <td>NaN</td>\n",
       "      <td>69005</td>\n",
       "      <td>270000</td>\n",
       "      <td>3 pièces</td>\n",
       "      <td>False</td>\n",
       "      <td>False</td>\n",
       "      <td>False</td>\n",
       "      <td>Ground Floor</td>\n",
       "      <td>False</td>\n",
       "      <td>False</td>\n",
       "      <td>True</td>\n",
       "      <td>False</td>\n",
       "    </tr>\n",
       "  </tbody>\n",
       "</table>\n",
       "<p>2497 rows × 13 columns</p>\n",
       "</div>"
      ],
      "text/plain": [
       "      area                              district  postal_code   price  \\\n",
       "0     19.0                          Croix Paquet        69001  175000   \n",
       "1     19.0                    La Guillotière Sud        69007  133000   \n",
       "2     39.0                                   NaN        69006  237000   \n",
       "3     99.0                              Montchat        69003  755000   \n",
       "4     48.0                              Montchat        69003  220000   \n",
       "...    ...                                   ...          ...     ...   \n",
       "2492  45.0                                   NaN        69005  295000   \n",
       "2493  58.0                                   NaN        69005  219000   \n",
       "2494  88.0                 Point du Jour-Ménival        69005  380000   \n",
       "2495  70.0  Champvert-Point du Jour-Saint Irénée        69005  265000   \n",
       "2496  75.0                                   NaN        69005  270000   \n",
       "\n",
       "         rooms  balcony  elevator  terrace         floor  garden  garage  \\\n",
       "0      1 pièce    False     False    False         Other   False   False   \n",
       "1      1 pièce    False     False    False         Other   False    True   \n",
       "2     2 pièces     True      True     True         Other   False   False   \n",
       "3     5 pièces     True      True    False         Other   False    True   \n",
       "4     2 pièces     True     False     True  Ground Floor    True   False   \n",
       "...        ...      ...       ...      ...           ...     ...     ...   \n",
       "2492  2 pièces     True     False    False         Other   False   False   \n",
       "2493  3 pièces     True      True    False         Other   False   False   \n",
       "2494  4 pièces     True      True    False         Other   False    True   \n",
       "2495  3 pièces    False      True    False         Other   False   False   \n",
       "2496  3 pièces    False     False    False  Ground Floor   False   False   \n",
       "\n",
       "      parking_spot  new_flat  \n",
       "0            False     False  \n",
       "1            False     False  \n",
       "2            False     False  \n",
       "3            False     False  \n",
       "4             True     False  \n",
       "...            ...       ...  \n",
       "2492         False     False  \n",
       "2493         False     False  \n",
       "2494         False     False  \n",
       "2495         False     False  \n",
       "2496          True     False  \n",
       "\n",
       "[2497 rows x 13 columns]"
      ]
     },
     "execution_count": 20,
     "metadata": {},
     "output_type": "execute_result"
    }
   ],
   "source": [
    "df"
   ]
  },
  {
   "cell_type": "code",
   "execution_count": 21,
   "id": "80c54ec1",
   "metadata": {},
   "outputs": [
    {
     "name": "stdout",
     "output_type": "stream",
     "text": [
      "<class 'pandas.core.frame.DataFrame'>\n",
      "RangeIndex: 2497 entries, 0 to 2496\n",
      "Data columns (total 13 columns):\n",
      " #   Column        Non-Null Count  Dtype  \n",
      "---  ------        --------------  -----  \n",
      " 0   area          2488 non-null   float64\n",
      " 1   district      1860 non-null   object \n",
      " 2   postal_code   2497 non-null   int64  \n",
      " 3   price         2497 non-null   int64  \n",
      " 4   rooms         2497 non-null   object \n",
      " 5   balcony       2497 non-null   bool   \n",
      " 6   elevator      2497 non-null   bool   \n",
      " 7   terrace       2497 non-null   bool   \n",
      " 8   floor         2497 non-null   object \n",
      " 9   garden        2497 non-null   bool   \n",
      " 10  garage        2497 non-null   bool   \n",
      " 11  parking_spot  2497 non-null   bool   \n",
      " 12  new_flat      2497 non-null   bool   \n",
      "dtypes: bool(7), float64(1), int64(2), object(3)\n",
      "memory usage: 134.2+ KB\n"
     ]
    }
   ],
   "source": [
    "#area and district have missing data\n",
    "df.info()"
   ]
  },
  {
   "cell_type": "code",
   "execution_count": 22,
   "id": "f00dab70",
   "metadata": {},
   "outputs": [],
   "source": [
    "#area has very few missing data, I can drop those few rows\n",
    "df = df.dropna(subset=['area'])"
   ]
  },
  {
   "cell_type": "code",
   "execution_count": 23,
   "id": "b2317056",
   "metadata": {},
   "outputs": [],
   "source": [
    "df = df.loc[df['rooms']!='0 pièce']"
   ]
  },
  {
   "cell_type": "code",
   "execution_count": 24,
   "id": "17f06111",
   "metadata": {},
   "outputs": [
    {
     "name": "stdout",
     "output_type": "stream",
     "text": [
      "<class 'pandas.core.frame.DataFrame'>\n",
      "Int64Index: 2487 entries, 0 to 2496\n",
      "Data columns (total 13 columns):\n",
      " #   Column        Non-Null Count  Dtype  \n",
      "---  ------        --------------  -----  \n",
      " 0   area          2487 non-null   float64\n",
      " 1   district      1852 non-null   object \n",
      " 2   postal_code   2487 non-null   int64  \n",
      " 3   price         2487 non-null   int64  \n",
      " 4   rooms         2487 non-null   object \n",
      " 5   balcony       2487 non-null   bool   \n",
      " 6   elevator      2487 non-null   bool   \n",
      " 7   terrace       2487 non-null   bool   \n",
      " 8   floor         2487 non-null   object \n",
      " 9   garden        2487 non-null   bool   \n",
      " 10  garage        2487 non-null   bool   \n",
      " 11  parking_spot  2487 non-null   bool   \n",
      " 12  new_flat      2487 non-null   bool   \n",
      "dtypes: bool(7), float64(1), int64(2), object(3)\n",
      "memory usage: 153.0+ KB\n"
     ]
    }
   ],
   "source": [
    "df.info()"
   ]
  },
  {
   "cell_type": "code",
   "execution_count": 25,
   "id": "1a6d7886",
   "metadata": {},
   "outputs": [],
   "source": [
    "#I sort the DF to have the same postal codes together\n",
    "\n",
    "sorted_df = df.sort_values('postal_code')"
   ]
  },
  {
   "cell_type": "code",
   "execution_count": 26,
   "id": "276b39aa",
   "metadata": {},
   "outputs": [],
   "source": [
    "#I refill the Nan of district by the last district on the list\n",
    "\n",
    "sorted_df['district'].fillna(method='bfill', inplace = True)"
   ]
  },
  {
   "cell_type": "code",
   "execution_count": 27,
   "id": "78a6e30e",
   "metadata": {},
   "outputs": [
    {
     "data": {
      "text/plain": [
       "False"
      ]
     },
     "execution_count": 27,
     "metadata": {},
     "output_type": "execute_result"
    }
   ],
   "source": [
    "sorted_df['district'].isna().sum().any()"
   ]
  },
  {
   "cell_type": "code",
   "execution_count": 28,
   "id": "464bd129",
   "metadata": {},
   "outputs": [
    {
     "name": "stdout",
     "output_type": "stream",
     "text": [
      "<class 'pandas.core.frame.DataFrame'>\n",
      "RangeIndex: 2487 entries, 0 to 2486\n",
      "Data columns (total 13 columns):\n",
      " #   Column        Non-Null Count  Dtype  \n",
      "---  ------        --------------  -----  \n",
      " 0   area          2487 non-null   float64\n",
      " 1   district      2487 non-null   object \n",
      " 2   postal_code   2487 non-null   int64  \n",
      " 3   price         2487 non-null   int64  \n",
      " 4   rooms         2487 non-null   object \n",
      " 5   balcony       2487 non-null   bool   \n",
      " 6   elevator      2487 non-null   bool   \n",
      " 7   terrace       2487 non-null   bool   \n",
      " 8   floor         2487 non-null   object \n",
      " 9   garden        2487 non-null   bool   \n",
      " 10  garage        2487 non-null   bool   \n",
      " 11  parking_spot  2487 non-null   bool   \n",
      " 12  new_flat      2487 non-null   bool   \n",
      "dtypes: bool(7), float64(1), int64(2), object(3)\n",
      "memory usage: 133.7+ KB\n"
     ]
    }
   ],
   "source": [
    "df = sorted_df.sort_values('price').reset_index(drop=True)\n",
    "df.info()"
   ]
  },
  {
   "cell_type": "markdown",
   "id": "0babd718",
   "metadata": {},
   "source": [
    "## End of Global Data Cleaning / Analysis"
   ]
  },
  {
   "cell_type": "markdown",
   "id": "81178b13",
   "metadata": {},
   "source": [
    " ## Preprocessing"
   ]
  },
  {
   "cell_type": "code",
   "execution_count": 29,
   "id": "655fb8d3",
   "metadata": {},
   "outputs": [],
   "source": [
    "from sklearn.preprocessing import LabelEncoder"
   ]
  },
  {
   "cell_type": "code",
   "execution_count": 30,
   "id": "9384e972",
   "metadata": {},
   "outputs": [],
   "source": [
    "encoder = LabelEncoder()"
   ]
  },
  {
   "cell_type": "code",
   "execution_count": 31,
   "id": "a9792420",
   "metadata": {},
   "outputs": [],
   "source": [
    "for data in df[['balcony', 'elevator', 'terrace', 'garden', 'garage', 'parking_spot', 'new_flat']]:\n",
    "    df[data] = encoder.fit_transform(df[data])\n",
    "\n",
    "for data in df[['postal_code', 'district', 'rooms', 'floor']]:\n",
    "    df = df.join(pd.get_dummies(df[data])).drop([data], axis = 1)\n",
    "    \n"
   ]
  },
  {
   "cell_type": "code",
   "execution_count": 32,
   "id": "d93debfe",
   "metadata": {},
   "outputs": [
    {
     "data": {
      "text/html": [
       "<div>\n",
       "<style scoped>\n",
       "    .dataframe tbody tr th:only-of-type {\n",
       "        vertical-align: middle;\n",
       "    }\n",
       "\n",
       "    .dataframe tbody tr th {\n",
       "        vertical-align: top;\n",
       "    }\n",
       "\n",
       "    .dataframe thead th {\n",
       "        text-align: right;\n",
       "    }\n",
       "</style>\n",
       "<table border=\"1\" class=\"dataframe\">\n",
       "  <thead>\n",
       "    <tr style=\"text-align: right;\">\n",
       "      <th></th>\n",
       "      <th>area</th>\n",
       "      <th>price</th>\n",
       "      <th>balcony</th>\n",
       "      <th>elevator</th>\n",
       "      <th>terrace</th>\n",
       "      <th>garden</th>\n",
       "      <th>garage</th>\n",
       "      <th>parking_spot</th>\n",
       "      <th>new_flat</th>\n",
       "      <th>69001</th>\n",
       "      <th>69002</th>\n",
       "      <th>69003</th>\n",
       "      <th>69004</th>\n",
       "      <th>69005</th>\n",
       "      <th>69006</th>\n",
       "      <th>69007</th>\n",
       "      <th>69008</th>\n",
       "      <th>69009</th>\n",
       "      <th>Bellecour-Ainay</th>\n",
       "      <th>Champvert-Point du Jour-Saint Irénée</th>\n",
       "      <th>Cordeliers-Célestins-Bourse</th>\n",
       "      <th>Croix Paquet</th>\n",
       "      <th>Croix Rousse-Centre</th>\n",
       "      <th>Croix Rousse-Gros Caillou</th>\n",
       "      <th>Fourvière-Saint Just</th>\n",
       "      <th>Gerland</th>\n",
       "      <th>...</th>\n",
       "      <th>Plateau de la Croix Rousse-Saône</th>\n",
       "      <th>Point du Jour-Ménival</th>\n",
       "      <th>Saint Rambert</th>\n",
       "      <th>Saint Vincent</th>\n",
       "      <th>Sans Souci-Dauphiné</th>\n",
       "      <th>Terreaux</th>\n",
       "      <th>Transvaal</th>\n",
       "      <th>Tête d'Or-Foch-Vitton</th>\n",
       "      <th>Vaise-Rochecardon-Industrie</th>\n",
       "      <th>Vieux Lyon</th>\n",
       "      <th>Villette</th>\n",
       "      <th>États-Unis</th>\n",
       "      <th>1 pièce</th>\n",
       "      <th>10 pièces</th>\n",
       "      <th>11 pièces</th>\n",
       "      <th>2 pièces</th>\n",
       "      <th>3 pièces</th>\n",
       "      <th>4 pièces</th>\n",
       "      <th>5 pièces</th>\n",
       "      <th>6 pièces</th>\n",
       "      <th>7 pièces</th>\n",
       "      <th>8 pièces</th>\n",
       "      <th>9 pièces</th>\n",
       "      <th>Ground Floor</th>\n",
       "      <th>Last Floor</th>\n",
       "      <th>Other</th>\n",
       "    </tr>\n",
       "  </thead>\n",
       "  <tbody>\n",
       "    <tr>\n",
       "      <th>2461</th>\n",
       "      <td>313.0</td>\n",
       "      <td>1490000</td>\n",
       "      <td>0</td>\n",
       "      <td>0</td>\n",
       "      <td>1</td>\n",
       "      <td>0</td>\n",
       "      <td>1</td>\n",
       "      <td>0</td>\n",
       "      <td>0</td>\n",
       "      <td>0</td>\n",
       "      <td>1</td>\n",
       "      <td>0</td>\n",
       "      <td>0</td>\n",
       "      <td>0</td>\n",
       "      <td>0</td>\n",
       "      <td>0</td>\n",
       "      <td>0</td>\n",
       "      <td>0</td>\n",
       "      <td>0</td>\n",
       "      <td>0</td>\n",
       "      <td>0</td>\n",
       "      <td>0</td>\n",
       "      <td>0</td>\n",
       "      <td>0</td>\n",
       "      <td>0</td>\n",
       "      <td>0</td>\n",
       "      <td>...</td>\n",
       "      <td>0</td>\n",
       "      <td>0</td>\n",
       "      <td>0</td>\n",
       "      <td>0</td>\n",
       "      <td>0</td>\n",
       "      <td>0</td>\n",
       "      <td>0</td>\n",
       "      <td>0</td>\n",
       "      <td>0</td>\n",
       "      <td>0</td>\n",
       "      <td>0</td>\n",
       "      <td>0</td>\n",
       "      <td>0</td>\n",
       "      <td>1</td>\n",
       "      <td>0</td>\n",
       "      <td>0</td>\n",
       "      <td>0</td>\n",
       "      <td>0</td>\n",
       "      <td>0</td>\n",
       "      <td>0</td>\n",
       "      <td>0</td>\n",
       "      <td>0</td>\n",
       "      <td>0</td>\n",
       "      <td>1</td>\n",
       "      <td>0</td>\n",
       "      <td>0</td>\n",
       "    </tr>\n",
       "  </tbody>\n",
       "</table>\n",
       "<p>1 rows × 66 columns</p>\n",
       "</div>"
      ],
      "text/plain": [
       "       area    price  balcony  elevator  terrace  garden  garage  \\\n",
       "2461  313.0  1490000        0         0        1       0       1   \n",
       "\n",
       "      parking_spot  new_flat  69001  69002  69003  69004  69005  69006  69007  \\\n",
       "2461             0         0      0      1      0      0      0      0      0   \n",
       "\n",
       "      69008  69009  Bellecour-Ainay  Champvert-Point du Jour-Saint Irénée  \\\n",
       "2461      0      0                0                                     0   \n",
       "\n",
       "      Cordeliers-Célestins-Bourse  Croix Paquet  Croix Rousse-Centre  \\\n",
       "2461                            0             0                    0   \n",
       "\n",
       "      Croix Rousse-Gros Caillou  Fourvière-Saint Just  Gerland  ...  \\\n",
       "2461                          0                     0        0  ...   \n",
       "\n",
       "      Plateau de la Croix Rousse-Saône  Point du Jour-Ménival  Saint Rambert  \\\n",
       "2461                                 0                      0              0   \n",
       "\n",
       "      Saint Vincent  Sans Souci-Dauphiné  Terreaux  Transvaal  \\\n",
       "2461              0                    0         0          0   \n",
       "\n",
       "      Tête d'Or-Foch-Vitton  Vaise-Rochecardon-Industrie  Vieux Lyon  \\\n",
       "2461                      0                            0           0   \n",
       "\n",
       "      Villette  États-Unis  1 pièce  10 pièces  11 pièces  2 pièces  3 pièces  \\\n",
       "2461         0           0        0          1          0         0         0   \n",
       "\n",
       "      4 pièces  5 pièces  6 pièces  7 pièces  8 pièces  9 pièces  \\\n",
       "2461         0         0         0         0         0         0   \n",
       "\n",
       "      Ground Floor  Last Floor  Other  \n",
       "2461             1           0      0  \n",
       "\n",
       "[1 rows x 66 columns]"
      ]
     },
     "execution_count": 32,
     "metadata": {},
     "output_type": "execute_result"
    }
   ],
   "source": [
    "pd.set_option('display.max_column',52)\n",
    "df[df['10 pièces'] == True]"
   ]
  },
  {
   "cell_type": "code",
   "execution_count": 33,
   "id": "d94d2588",
   "metadata": {},
   "outputs": [],
   "source": [
    "#since what is inside the flat seems more important than the location, I will only keep the districts\n",
    "df.drop([69001,69002,69003,69004,69005,69006,69007,69008,69009], axis = 1, inplace= True)"
   ]
  },
  {
   "cell_type": "code",
   "execution_count": 129,
   "id": "5a42e394",
   "metadata": {},
   "outputs": [
    {
     "data": {
      "text/plain": [
       "(1813, 57)"
      ]
     },
     "execution_count": 129,
     "metadata": {},
     "output_type": "execute_result"
    }
   ],
   "source": [
    "pd.set_option('display.max_column',62)\n",
    "df = df[df['price'] < 500000]\n",
    "df.shape"
   ]
  },
  {
   "cell_type": "code",
   "execution_count": 100,
   "id": "76038c64",
   "metadata": {},
   "outputs": [],
   "source": [
    "#normalize the price column\n",
    "#df['price'] = np.log(df['price'] + 1)"
   ]
  },
  {
   "cell_type": "code",
   "execution_count": 101,
   "id": "aefdbfd4",
   "metadata": {},
   "outputs": [],
   "source": [
    "#df['price'].hist(figsize=(10,5))"
   ]
  },
  {
   "cell_type": "markdown",
   "id": "0bfbd35b",
   "metadata": {},
   "source": [
    "## Machine Learning Model"
   ]
  },
  {
   "cell_type": "code",
   "execution_count": 130,
   "id": "c05dc5c2",
   "metadata": {},
   "outputs": [],
   "source": [
    "from sklearn.model_selection import train_test_split"
   ]
  },
  {
   "cell_type": "code",
   "execution_count": 131,
   "id": "717a21e5",
   "metadata": {},
   "outputs": [],
   "source": [
    "seed = 42"
   ]
  },
  {
   "cell_type": "code",
   "execution_count": 137,
   "id": "c30a110a",
   "metadata": {},
   "outputs": [],
   "source": [
    "X = df.drop(['price'], axis = 1)\n",
    "y = df['price']\n",
    "\n",
    "X_train, X_tmp, y_train, y_tmp = train_test_split(X, y, train_size=0.8, random_state=seed)\n",
    "X_val, X_test, y_val, y_test = train_test_split(X_tmp, y_tmp, test_size=0.5, random_state=seed)"
   ]
  },
  {
   "cell_type": "code",
   "execution_count": 138,
   "id": "d3f30f1e",
   "metadata": {},
   "outputs": [],
   "source": [
    "from sklearn.ensemble import RandomForestRegressor\n",
    "from sklearn.metrics import mean_absolute_error"
   ]
  },
  {
   "cell_type": "code",
   "execution_count": 139,
   "id": "87c0bf70",
   "metadata": {},
   "outputs": [
    {
     "data": {
      "text/plain": [
       "47438.24079189686"
      ]
     },
     "execution_count": 139,
     "metadata": {},
     "output_type": "execute_result"
    }
   ],
   "source": [
    "r_forest = RandomForestRegressor()\n",
    "\n",
    "r_forest.fit(X_train, y_train)\n",
    "\n",
    "predictions = r_forest.predict(X_val)\n",
    "\n",
    "r_forest_mae = mean_absolute_error(y_val, predictions)\n",
    "\n",
    "r_forest_mae"
   ]
  },
  {
   "cell_type": "code",
   "execution_count": 140,
   "id": "9de50221",
   "metadata": {},
   "outputs": [
    {
     "data": {
      "text/html": [
       "<div>\n",
       "<style scoped>\n",
       "    .dataframe tbody tr th:only-of-type {\n",
       "        vertical-align: middle;\n",
       "    }\n",
       "\n",
       "    .dataframe tbody tr th {\n",
       "        vertical-align: top;\n",
       "    }\n",
       "\n",
       "    .dataframe thead th {\n",
       "        text-align: right;\n",
       "    }\n",
       "</style>\n",
       "<table border=\"1\" class=\"dataframe\">\n",
       "  <thead>\n",
       "    <tr style=\"text-align: right;\">\n",
       "      <th></th>\n",
       "      <th>price</th>\n",
       "      <th>predictions</th>\n",
       "    </tr>\n",
       "  </thead>\n",
       "  <tbody>\n",
       "    <tr>\n",
       "      <th>0</th>\n",
       "      <td>449000</td>\n",
       "      <td>404950.000000</td>\n",
       "    </tr>\n",
       "    <tr>\n",
       "      <th>1</th>\n",
       "      <td>200000</td>\n",
       "      <td>208646.570000</td>\n",
       "    </tr>\n",
       "    <tr>\n",
       "      <th>2</th>\n",
       "      <td>440000</td>\n",
       "      <td>450243.150000</td>\n",
       "    </tr>\n",
       "    <tr>\n",
       "      <th>3</th>\n",
       "      <td>185000</td>\n",
       "      <td>200511.340000</td>\n",
       "    </tr>\n",
       "    <tr>\n",
       "      <th>4</th>\n",
       "      <td>355000</td>\n",
       "      <td>371052.000000</td>\n",
       "    </tr>\n",
       "    <tr>\n",
       "      <th>...</th>\n",
       "      <td>...</td>\n",
       "      <td>...</td>\n",
       "    </tr>\n",
       "    <tr>\n",
       "      <th>176</th>\n",
       "      <td>179000</td>\n",
       "      <td>179026.000000</td>\n",
       "    </tr>\n",
       "    <tr>\n",
       "      <th>177</th>\n",
       "      <td>279000</td>\n",
       "      <td>269365.190000</td>\n",
       "    </tr>\n",
       "    <tr>\n",
       "      <th>178</th>\n",
       "      <td>430000</td>\n",
       "      <td>392823.960000</td>\n",
       "    </tr>\n",
       "    <tr>\n",
       "      <th>179</th>\n",
       "      <td>465000</td>\n",
       "      <td>436487.380952</td>\n",
       "    </tr>\n",
       "    <tr>\n",
       "      <th>180</th>\n",
       "      <td>447000</td>\n",
       "      <td>446311.666667</td>\n",
       "    </tr>\n",
       "  </tbody>\n",
       "</table>\n",
       "<p>181 rows × 2 columns</p>\n",
       "</div>"
      ],
      "text/plain": [
       "      price    predictions\n",
       "0    449000  404950.000000\n",
       "1    200000  208646.570000\n",
       "2    440000  450243.150000\n",
       "3    185000  200511.340000\n",
       "4    355000  371052.000000\n",
       "..      ...            ...\n",
       "176  179000  179026.000000\n",
       "177  279000  269365.190000\n",
       "178  430000  392823.960000\n",
       "179  465000  436487.380952\n",
       "180  447000  446311.666667\n",
       "\n",
       "[181 rows x 2 columns]"
      ]
     },
     "execution_count": 140,
     "metadata": {},
     "output_type": "execute_result"
    }
   ],
   "source": [
    "df_score = pd.DataFrame(y_val).reset_index(drop=True)\n",
    "df_score['predictions'] = predictions\n",
    "\n",
    "df_score"
   ]
  },
  {
   "cell_type": "code",
   "execution_count": 141,
   "id": "58a66582",
   "metadata": {},
   "outputs": [
    {
     "data": {
      "text/plain": [
       "<matplotlib.collections.PathCollection at 0x7fe2045e5a30>"
      ]
     },
     "execution_count": 141,
     "metadata": {},
     "output_type": "execute_result"
    },
    {
     "data": {
      "image/png": "[encoded data removed]",
      "text/plain": [
       "<Figure size 640x480 with 1 Axes>"
      ]
     },
     "metadata": {},
     "output_type": "display_data"
    }
   ],
   "source": [
    "plt.figure()\n",
    "plt.scatter(y_val, abs(y_val - predictions))"
   ]
  },
  {
   "cell_type": "code",
   "execution_count": null,
   "id": "5747a321",
   "metadata": {},
   "outputs": [],
   "source": []
  },
  {
   "cell_type": "code",
   "execution_count": 43,
   "id": "a5f603b5",
   "metadata": {},
   "outputs": [
    {
     "data": {
      "text/html": [
       "<div>\n",
       "<style scoped>\n",
       "    .dataframe tbody tr th:only-of-type {\n",
       "        vertical-align: middle;\n",
       "    }\n",
       "\n",
       "    .dataframe tbody tr th {\n",
       "        vertical-align: top;\n",
       "    }\n",
       "\n",
       "    .dataframe thead th {\n",
       "        text-align: right;\n",
       "    }\n",
       "</style>\n",
       "<table border=\"1\" class=\"dataframe\">\n",
       "  <thead>\n",
       "    <tr style=\"text-align: right;\">\n",
       "      <th></th>\n",
       "      <th>area</th>\n",
       "      <th>price</th>\n",
       "      <th>balcony</th>\n",
       "      <th>elevator</th>\n",
       "      <th>terrace</th>\n",
       "      <th>garden</th>\n",
       "      <th>garage</th>\n",
       "      <th>parking_spot</th>\n",
       "      <th>new_flat</th>\n",
       "      <th>Bellecour-Ainay</th>\n",
       "      <th>Champvert-Point du Jour-Saint Irénée</th>\n",
       "      <th>Cordeliers-Célestins-Bourse</th>\n",
       "      <th>Croix Paquet</th>\n",
       "      <th>Croix Rousse-Centre</th>\n",
       "      <th>Croix Rousse-Gros Caillou</th>\n",
       "      <th>Fourvière-Saint Just</th>\n",
       "      <th>Gerland</th>\n",
       "      <th>Gorge du Loup-Champvert</th>\n",
       "      <th>Jean Macé</th>\n",
       "      <th>La Duchère</th>\n",
       "      <th>La Guillotière Nord</th>\n",
       "      <th>La Guillotière Sud</th>\n",
       "      <th>La Plaine</th>\n",
       "      <th>Laënnec-Mermoz</th>\n",
       "      <th>Le Grand Trou</th>\n",
       "      <th>Les Brotteaux-Bellecombe-Masséna</th>\n",
       "      <th>Monplaisir-Le Bachut</th>\n",
       "      <th>Montchat</th>\n",
       "      <th>Part Dieu</th>\n",
       "      <th>Perrache-Le Confluent</th>\n",
       "      <th>Plateau de la Croix Rousse-Ouest</th>\n",
       "      <th>Plateau de la Croix Rousse-Saône</th>\n",
       "      <th>Point du Jour-Ménival</th>\n",
       "      <th>Saint Rambert</th>\n",
       "      <th>Saint Vincent</th>\n",
       "      <th>Sans Souci-Dauphiné</th>\n",
       "      <th>Terreaux</th>\n",
       "      <th>Transvaal</th>\n",
       "      <th>Tête d'Or-Foch-Vitton</th>\n",
       "      <th>Vaise-Rochecardon-Industrie</th>\n",
       "      <th>Vieux Lyon</th>\n",
       "      <th>Villette</th>\n",
       "      <th>États-Unis</th>\n",
       "      <th>1 pièce</th>\n",
       "      <th>10 pièces</th>\n",
       "      <th>11 pièces</th>\n",
       "      <th>2 pièces</th>\n",
       "      <th>3 pièces</th>\n",
       "      <th>4 pièces</th>\n",
       "      <th>5 pièces</th>\n",
       "      <th>6 pièces</th>\n",
       "      <th>7 pièces</th>\n",
       "      <th>8 pièces</th>\n",
       "      <th>9 pièces</th>\n",
       "      <th>Ground Floor</th>\n",
       "      <th>Last Floor</th>\n",
       "      <th>Other</th>\n",
       "    </tr>\n",
       "  </thead>\n",
       "  <tbody>\n",
       "    <tr>\n",
       "      <th>0</th>\n",
       "      <td>11.0</td>\n",
       "      <td>50000</td>\n",
       "      <td>0</td>\n",
       "      <td>0</td>\n",
       "      <td>0</td>\n",
       "      <td>0</td>\n",
       "      <td>0</td>\n",
       "      <td>0</td>\n",
       "      <td>0</td>\n",
       "      <td>0</td>\n",
       "      <td>0</td>\n",
       "      <td>0</td>\n",
       "      <td>0</td>\n",
       "      <td>0</td>\n",
       "      <td>0</td>\n",
       "      <td>0</td>\n",
       "      <td>0</td>\n",
       "      <td>0</td>\n",
       "      <td>0</td>\n",
       "      <td>0</td>\n",
       "      <td>0</td>\n",
       "      <td>0</td>\n",
       "      <td>0</td>\n",
       "      <td>0</td>\n",
       "      <td>0</td>\n",
       "      <td>0</td>\n",
       "      <td>0</td>\n",
       "      <td>0</td>\n",
       "      <td>0</td>\n",
       "      <td>0</td>\n",
       "      <td>0</td>\n",
       "      <td>0</td>\n",
       "      <td>0</td>\n",
       "      <td>0</td>\n",
       "      <td>0</td>\n",
       "      <td>0</td>\n",
       "      <td>0</td>\n",
       "      <td>0</td>\n",
       "      <td>0</td>\n",
       "      <td>0</td>\n",
       "      <td>0</td>\n",
       "      <td>1</td>\n",
       "      <td>0</td>\n",
       "      <td>1</td>\n",
       "      <td>0</td>\n",
       "      <td>0</td>\n",
       "      <td>0</td>\n",
       "      <td>0</td>\n",
       "      <td>0</td>\n",
       "      <td>0</td>\n",
       "      <td>0</td>\n",
       "      <td>0</td>\n",
       "      <td>0</td>\n",
       "      <td>0</td>\n",
       "      <td>1</td>\n",
       "      <td>0</td>\n",
       "      <td>0</td>\n",
       "    </tr>\n",
       "    <tr>\n",
       "      <th>1</th>\n",
       "      <td>8.0</td>\n",
       "      <td>52000</td>\n",
       "      <td>0</td>\n",
       "      <td>1</td>\n",
       "      <td>0</td>\n",
       "      <td>0</td>\n",
       "      <td>0</td>\n",
       "      <td>0</td>\n",
       "      <td>0</td>\n",
       "      <td>0</td>\n",
       "      <td>0</td>\n",
       "      <td>0</td>\n",
       "      <td>0</td>\n",
       "      <td>0</td>\n",
       "      <td>0</td>\n",
       "      <td>0</td>\n",
       "      <td>1</td>\n",
       "      <td>0</td>\n",
       "      <td>0</td>\n",
       "      <td>0</td>\n",
       "      <td>0</td>\n",
       "      <td>0</td>\n",
       "      <td>0</td>\n",
       "      <td>0</td>\n",
       "      <td>0</td>\n",
       "      <td>0</td>\n",
       "      <td>0</td>\n",
       "      <td>0</td>\n",
       "      <td>0</td>\n",
       "      <td>0</td>\n",
       "      <td>0</td>\n",
       "      <td>0</td>\n",
       "      <td>0</td>\n",
       "      <td>0</td>\n",
       "      <td>0</td>\n",
       "      <td>0</td>\n",
       "      <td>0</td>\n",
       "      <td>0</td>\n",
       "      <td>0</td>\n",
       "      <td>0</td>\n",
       "      <td>0</td>\n",
       "      <td>0</td>\n",
       "      <td>0</td>\n",
       "      <td>1</td>\n",
       "      <td>0</td>\n",
       "      <td>0</td>\n",
       "      <td>0</td>\n",
       "      <td>0</td>\n",
       "      <td>0</td>\n",
       "      <td>0</td>\n",
       "      <td>0</td>\n",
       "      <td>0</td>\n",
       "      <td>0</td>\n",
       "      <td>0</td>\n",
       "      <td>0</td>\n",
       "      <td>1</td>\n",
       "      <td>0</td>\n",
       "    </tr>\n",
       "  </tbody>\n",
       "</table>\n",
       "</div>"
      ],
      "text/plain": [
       "   area  price  balcony  elevator  terrace  garden  garage  parking_spot  \\\n",
       "0  11.0  50000        0         0        0       0       0             0   \n",
       "1   8.0  52000        0         1        0       0       0             0   \n",
       "\n",
       "   new_flat  Bellecour-Ainay  Champvert-Point du Jour-Saint Irénée  \\\n",
       "0         0                0                                     0   \n",
       "1         0                0                                     0   \n",
       "\n",
       "   Cordeliers-Célestins-Bourse  Croix Paquet  Croix Rousse-Centre  \\\n",
       "0                            0             0                    0   \n",
       "1                            0             0                    0   \n",
       "\n",
       "   Croix Rousse-Gros Caillou  Fourvière-Saint Just  Gerland  \\\n",
       "0                          0                     0        0   \n",
       "1                          0                     0        1   \n",
       "\n",
       "   Gorge du Loup-Champvert  Jean Macé  La Duchère  La Guillotière Nord  \\\n",
       "0                        0          0           0                    0   \n",
       "1                        0          0           0                    0   \n",
       "\n",
       "   La Guillotière Sud  La Plaine  Laënnec-Mermoz  Le Grand Trou  \\\n",
       "0                   0          0               0              0   \n",
       "1                   0          0               0              0   \n",
       "\n",
       "   Les Brotteaux-Bellecombe-Masséna  Monplaisir-Le Bachut  Montchat  \\\n",
       "0                                 0                     0         0   \n",
       "1                                 0                     0         0   \n",
       "\n",
       "   Part Dieu  Perrache-Le Confluent  Plateau de la Croix Rousse-Ouest  \\\n",
       "0          0                      0                                 0   \n",
       "1          0                      0                                 0   \n",
       "\n",
       "   Plateau de la Croix Rousse-Saône  Point du Jour-Ménival  Saint Rambert  \\\n",
       "0                                 0                      0              0   \n",
       "1                                 0                      0              0   \n",
       "\n",
       "   Saint Vincent  Sans Souci-Dauphiné  Terreaux  Transvaal  \\\n",
       "0              0                    0         0          0   \n",
       "1              0                    0         0          0   \n",
       "\n",
       "   Tête d'Or-Foch-Vitton  Vaise-Rochecardon-Industrie  Vieux Lyon  Villette  \\\n",
       "0                      0                            0           0         1   \n",
       "1                      0                            0           0         0   \n",
       "\n",
       "   États-Unis  1 pièce  10 pièces  11 pièces  2 pièces  3 pièces  4 pièces  \\\n",
       "0           0        1          0          0         0         0         0   \n",
       "1           0        1          0          0         0         0         0   \n",
       "\n",
       "   5 pièces  6 pièces  7 pièces  8 pièces  9 pièces  Ground Floor  Last Floor  \\\n",
       "0         0         0         0         0         0             1           0   \n",
       "1         0         0         0         0         0             0           1   \n",
       "\n",
       "   Other  \n",
       "0      0  \n",
       "1      0  "
      ]
     },
     "execution_count": 43,
     "metadata": {},
     "output_type": "execute_result"
    }
   ],
   "source": [
    "df.head(2)"
   ]
  },
  {
   "cell_type": "code",
   "execution_count": 44,
   "id": "f8561a00",
   "metadata": {},
   "outputs": [],
   "source": [
    "import pickle"
   ]
  },
  {
   "cell_type": "code",
   "execution_count": 45,
   "id": "4b956ed4",
   "metadata": {},
   "outputs": [],
   "source": [
    "#pickle.dump(r_forest, open('model.pkl', 'wb'))"
   ]
  },
  {
   "cell_type": "code",
   "execution_count": null,
   "id": "6892e8d3",
   "metadata": {},
   "outputs": [],
   "source": []
  }
 ],
 "metadata": {
  "kernelspec": {
   "display_name": "Python 3 (ipykernel)",
   "language": "python",
   "name": "python3"
  },
  "language_info": {
   "codemirror_mode": {
    "name": "ipython",
    "version": 3
   },
   "file_extension": ".py",
   "mimetype": "text/x-python",
   "name": "python",
   "nbconvert_exporter": "python",
   "pygments_lexer": "ipython3",
   "version": "3.9.16"
  }
 },
 "nbformat": 4,
 "nbformat_minor": 5
}
